{
 "cells": [
  {
   "cell_type": "markdown",
   "metadata": {},
   "source": [
    "My first Ml project and start journey of ml"
   ]
  },
  {
   "cell_type": "code",
   "execution_count": 32,
   "metadata": {},
   "outputs": [],
   "source": [
    "import matplotlib \n",
    "import matplotlib.pyplot as plt \n",
    "import numpy as np \n",
    "import pandas as pd \n",
    "from numpy import genfromtxt\n"
   ]
  },
  {
   "cell_type": "code",
   "execution_count": 33,
   "metadata": {},
   "outputs": [],
   "source": [
    "def MeanSquareError(m,b,pt):\n",
    "    error=0.0\n",
    "    for i in range(len(pt)):\n",
    "        y=pt[i,1]\n",
    "        x=m*pt[i,0]+b\n",
    "        error+=(y-x)**2\n",
    "    return error/float(len(pt))\n"
   ]
  },
  {
   "cell_type": "code",
   "execution_count": 34,
   "metadata": {},
   "outputs": [],
   "source": [
    "def gradient(bValue,mValue,learning,pt):\n",
    "    bGrad=0\n",
    "    mGrad=0\n",
    "    n=len(pt)\n",
    "    for i in range(len(pt)):\n",
    "        y=pt[i,1]\n",
    "        bGrad+=-(2/n)*(y-(mValue*pt[i,0]+bValue))\n",
    "        mGrad+=-(2/n)*(pt[i,0])*(y-(mValue*pt[i,0]+bValue))\n",
    "    bValue-=bGrad*learning\n",
    "    mValue-=mGrad*learning\n",
    "    return (bValue,mValue)"
   ]
  },
  {
   "cell_type": "code",
   "execution_count": 35,
   "metadata": {},
   "outputs": [],
   "source": [
    "def Compute(pt,bInitial,mInitial,learning,iteration):\n",
    "    bUpdate=bInitial\n",
    "    mUpdate=mInitial\n",
    "    for i in range(iteration):\n",
    "        bUpdate,mUpdate=gradient(bUpdate,mUpdate,learning,pt)\n",
    "    return bUpdate,mUpdate"
   ]
  },
  {
   "cell_type": "code",
   "execution_count": 36,
   "metadata": {},
   "outputs": [],
   "source": [
    "def run(n,learningRate):\n",
    "    pt=genfromtxt(\"data.csv\", delimiter=\",\")\n",
    "    b=0\n",
    "    m=0\n",
    "    iteration=n\n",
    "    b,m=Compute(np.array(pt),b,m,learningRate,iteration)\n",
    "    return b,m"
   ]
  },
  {
   "cell_type": "code",
   "execution_count": 37,
   "metadata": {},
   "outputs": [],
   "source": [
    "def plotData():\n",
    "    pt=genfromtxt(\"data.csv\", delimiter=\",\")\n",
    "    x=[]\n",
    "    y=[]\n",
    "    b,m=run(1000,0.0001)\n",
    "    for i in range(len(pt)):\n",
    "        x.append(pt[i,0])\n",
    "        y.append(pt[i,1])\n",
    "    mn=np.min(x)\n",
    "    mx=np.max(x)\n",
    "    x1=np.linspace(mn,mx,500)\n",
    "    y1=m*x1+b\n",
    "    plt.scatter(x, y, alpha=0.5)\n",
    "    plt.plot(x1,y1,'ob')\n",
    "    plt.title('Linear regression')\n",
    "    plt.xlabel('x')\n",
    "    plt.ylabel('y')\n",
    "    plt.show()\n",
    "    return (b,m)"
   ]
  },
  {
   "cell_type": "code",
   "execution_count": 39,
   "metadata": {},
   "outputs": [
    {
     "data": {
      "image/png": "[encoded data removed]",
      "text/plain": [
       "<Figure size 432x288 with 1 Axes>"
      ]
     },
     "metadata": {
      "needs_background": "light"
     },
     "output_type": "display_data"
    },
    {
     "name": "stdout",
     "output_type": "stream",
     "text": [
      "the mean square error is 112.61481011613473\n"
     ]
    }
   ],
   "source": [
    "b,m=plotData()\n",
    "pt=genfromtxt(\"data.csv\", delimiter=\",\")\n",
    "print(\"the mean square error is\",MeanSquareError(m,b,pt))"
   ]
  },
  {
   "cell_type": "code",
   "execution_count": null,
   "metadata": {},
   "outputs": [],
   "source": []
  }
 ],
 "metadata": {
  "kernelspec": {
   "display_name": "Python 3",
   "language": "python",
   "name": "python3"
  },
  "language_info": {
   "codemirror_mode": {
    "name": "ipython",
    "version": 3
   },
   "file_extension": ".py",
   "mimetype": "text/x-python",
   "name": "python",
   "nbconvert_exporter": "python",
   "pygments_lexer": "ipython3",
   "version": "3.7.3"
  }
 },
 "nbformat": 4,
 "nbformat_minor": 2
}
